{
 "cells": [
  {
   "cell_type": "markdown",
   "id": "4b56d50c",
   "metadata": {},
   "source": [
    "Sarcasm Detection "
   ]
  },
  {
   "cell_type": "code",
   "execution_count": null,
   "id": "a8c8909d",
   "metadata": {},
   "outputs": [],
   "source": [
    "Past studies in Sarcasm Detection mostly make use of Twitter datasets collected using hashtag based\n",
    "supervision but such datasets are noisy in terms of labels and language. Furthermore, many tweets are replies to\n",
    "other tweets and detecting sarcasm in these requires the availability of contextual tweets.In this hands-on project,\n",
    "the goal is to build a model to detect whether a sentence is sarcastic or not, using Bidirectional LSTMs."
   ]
  },
  {
   "cell_type": "markdown",
   "id": "5dbf0db6",
   "metadata": {},
   "source": [
    "The dataset is collected from two news websites, theonion.com and huffingtonpost.com.\n",
    "This new dataset has the following advantages over the existing Twitter datasets:\n",
    "Since news headlines are written by professionals in a formal manner, there are no spelling mistakes and informal usage. This\n",
    "reduces the sparsity and also increases the chance of finding pre-trained embeddings.\n",
    "Furthermore, since the sole purpose of TheOnion is to publish sarcastic news, we get high-quality labels with much less noise as\n",
    "compared to Twitter datasets.\n",
    "Unlike tweets that reply to other tweets, the news headlines obtained are self-contained. This would help us in teasing apart the\n",
    "real sarcastic elements\n",
    "Content: Each record consists of three attributes:\n",
    "is_sarcastic: 1 if the record is sarcastic otherwise 0\n",
    "headline: the headline of the news article\n",
    "article_link: link to the original news article. Useful in collecting supplementary data\n",
    "Reference: https://github.com/rishabhmisra/News-Headlines-Dataset-For-Sarcasm-Detection"
   ]
  },
  {
   "cell_type": "markdown",
   "id": "e64557ce",
   "metadata": {},
   "source": [
    "PROJECT OBJECTIVE: Build a sequential NLP classifier which can use input text parameters to determine the\n",
    "customer sentiments."
   ]
  },
  {
   "cell_type": "markdown",
   "id": "888336eb",
   "metadata": {},
   "source": [
    "Steps and tasks:  \n",
    "1. Read and explore the data "
   ]
  },
  {
   "cell_type": "code",
   "execution_count": null,
   "id": "41f6144e",
   "metadata": {},
   "outputs": [],
   "source": [
    "import pandas as pd\n",
    "df = pd.read_json('Sarcasm_Headlines_Dataset.json', lines = True)"
   ]
  },
  {
   "cell_type": "code",
   "execution_count": 12,
   "id": "892078d4",
   "metadata": {},
   "outputs": [
    {
     "name": "stdout",
     "output_type": "stream",
     "text": [
      "The data is:\n",
      "   is_sarcastic                                           headline  \\\n",
      "0             1  thirtysomething scientists unveil doomsday clo...   \n",
      "1             0  dem rep. totally nails why congress is falling...   \n",
      "2             0  eat your veggies: 9 deliciously different recipes   \n",
      "3             1  inclement weather prevents liar from getting t...   \n",
      "4             1  mother comes pretty close to using word 'strea...   \n",
      "\n",
      "                                        article_link  \n",
      "0  https://www.theonion.com/thirtysomething-scien...  \n",
      "1  https://www.huffingtonpost.com/entry/donna-edw...  \n",
      "2  https://www.huffingtonpost.com/entry/eat-your-...  \n",
      "3  https://local.theonion.com/inclement-weather-p...  \n",
      "4  https://www.theonion.com/mother-comes-pretty-c...  \n"
     ]
    }
   ],
   "source": [
    "print(\"The data is:\")\n",
    "print(df.head())"
   ]
  },
  {
   "cell_type": "markdown",
   "id": "9836c400",
   "metadata": {},
   "source": [
    "2. Retain relevant columns "
   ]
  },
  {
   "cell_type": "code",
   "execution_count": 13,
   "id": "c88a0d58",
   "metadata": {},
   "outputs": [],
   "source": [
    "df.drop(\"article_link\", axis=1, inplace=True)"
   ]
  },
  {
   "cell_type": "code",
   "execution_count": 14,
   "id": "a595d2b6",
   "metadata": {},
   "outputs": [
    {
     "name": "stdout",
     "output_type": "stream",
     "text": [
      "The data is:\n",
      "   is_sarcastic                                           headline\n",
      "0             1  thirtysomething scientists unveil doomsday clo...\n",
      "1             0  dem rep. totally nails why congress is falling...\n",
      "2             0  eat your veggies: 9 deliciously different recipes\n",
      "3             1  inclement weather prevents liar from getting t...\n",
      "4             1  mother comes pretty close to using word 'strea...\n"
     ]
    }
   ],
   "source": [
    "print(\"The data is:\")\n",
    "print(df.head())"
   ]
  },
  {
   "cell_type": "code",
   "execution_count": 15,
   "id": "d996b016",
   "metadata": {},
   "outputs": [
    {
     "name": "stdout",
     "output_type": "stream",
     "text": [
      "The number of items in data is: 28619\n"
     ]
    }
   ],
   "source": [
    "print(\"The number of items in data is:\",len(df))"
   ]
  },
  {
   "cell_type": "markdown",
   "id": "9331afc7",
   "metadata": {},
   "source": [
    "3. Get length of each sentence "
   ]
  },
  {
   "cell_type": "code",
   "execution_count": 16,
   "id": "baf5ad15",
   "metadata": {},
   "outputs": [
    {
     "name": "stdout",
     "output_type": "stream",
     "text": [
      "Length of headlines: 0        61\n",
      "1        79\n",
      "2        49\n",
      "3        52\n",
      "4        61\n",
      "         ..\n",
      "28614    44\n",
      "28615    87\n",
      "28616    71\n",
      "28617    61\n",
      "28618    34\n",
      "Name: headline, Length: 28619, dtype: int64\n"
     ]
    }
   ],
   "source": [
    "print('Length of headlines:',df['headline'].str.len())"
   ]
  },
  {
   "cell_type": "markdown",
   "id": "8eaf9664",
   "metadata": {},
   "source": [
    "4. Define parameters  "
   ]
  },
  {
   "cell_type": "code",
   "execution_count": 17,
   "id": "28b072ff",
   "metadata": {},
   "outputs": [],
   "source": [
    "def remove_special_characters(dataframe,columnname):\n",
    "    dataframe_no_special_characters = dataframe[columnname].replace(r'[^A-Za-z0-9 ]+', '', regex=True)\n",
    "    return dataframe_no_special_characters\n",
    "\n",
    "df['headline'] = remove_special_characters(df,'headline')"
   ]
  },
  {
   "cell_type": "code",
   "execution_count": 18,
   "id": "5cbafe27",
   "metadata": {},
   "outputs": [],
   "source": [
    "def lowercase(dataframe,columnname):\n",
    "    lowercase_dataframe = dataframe[columnname].apply(lambda x: x.lower())\n",
    "    return lowercase_dataframe\n",
    "\n",
    "df['headline'] = lowercase(df,'headline')"
   ]
  },
  {
   "cell_type": "code",
   "execution_count": 19,
   "id": "f6b0a61e",
   "metadata": {},
   "outputs": [],
   "source": [
    "from nltk.tokenize import word_tokenize\n",
    "\n",
    "def tokenize_words(dataframe,columnname):\n",
    "    dataframe_tokenized_texts= dataframe[columnname].apply(lambda x: word_tokenize(x) )\n",
    "    \n",
    "    return dataframe_tokenized_texts\n",
    "\n",
    "df['headline'] = tokenize_words(df,'headline')"
   ]
  },
  {
   "cell_type": "code",
   "execution_count": 20,
   "id": "868e0533",
   "metadata": {},
   "outputs": [],
   "source": [
    "from nltk.corpus import stopwords\n",
    "\n",
    "def remove_stop_words(dataframe,columnname):\n",
    "    stop = stopwords.words('english')\n",
    "    dataframe_no_stop_words= dataframe[columnname].apply(lambda x: [item for item in x if item not in stop])\n",
    "    \n",
    "    return dataframe_no_stop_words\n",
    "\n",
    "df['headline'] = remove_stop_words(df,'headline')"
   ]
  },
  {
   "cell_type": "code",
   "execution_count": 21,
   "id": "73b4c9cc",
   "metadata": {},
   "outputs": [],
   "source": [
    "def join_sentence(dataframe,columnname):\n",
    "\n",
    "    dataframe_joined_sentence= dataframe[columnname].apply(lambda x: (\" \").join(x))    \n",
    "    return dataframe_joined_sentence\n",
    "\n",
    "df['headline'] = join_sentence(df,'headline')"
   ]
  },
  {
   "cell_type": "code",
   "execution_count": 22,
   "id": "82ec5eb5",
   "metadata": {},
   "outputs": [
    {
     "name": "stdout",
     "output_type": "stream",
     "text": [
      "The new data is:\n",
      "   is_sarcastic                                           headline\n",
      "0             1  thirtysomething scientists unveil doomsday clo...\n",
      "1             0  dem rep totally nails congress falling short g...\n",
      "2             0        eat veggies 9 deliciously different recipes\n",
      "3             1       inclement weather prevents liar getting work\n",
      "4             1  mother comes pretty close using word streaming...\n"
     ]
    }
   ],
   "source": [
    "print(\"The new data is:\")\n",
    "print(df.head())"
   ]
  },
  {
   "cell_type": "code",
   "execution_count": 23,
   "id": "c9882501",
   "metadata": {},
   "outputs": [],
   "source": [
    "df['number_of_words'] = df['headline'].apply(lambda x: len(x.split(' ')))"
   ]
  },
  {
   "cell_type": "code",
   "execution_count": 24,
   "id": "48f01386",
   "metadata": {},
   "outputs": [
    {
     "name": "stdout",
     "output_type": "stream",
     "text": [
      "The new data is:\n",
      "   is_sarcastic                                           headline  \\\n",
      "0             1  thirtysomething scientists unveil doomsday clo...   \n",
      "1             0  dem rep totally nails congress falling short g...   \n",
      "2             0        eat veggies 9 deliciously different recipes   \n",
      "3             1       inclement weather prevents liar getting work   \n",
      "4             1  mother comes pretty close using word streaming...   \n",
      "\n",
      "   number_of_words  \n",
      "0                7  \n",
      "1               10  \n",
      "2                6  \n",
      "3                6  \n",
      "4                8  \n"
     ]
    }
   ],
   "source": [
    "print(\"The new data is:\")\n",
    "print(df.head())"
   ]
  },
  {
   "cell_type": "markdown",
   "id": "904785fa",
   "metadata": {},
   "source": [
    "5. Get indices for words "
   ]
  },
  {
   "cell_type": "code",
   "execution_count": 25,
   "id": "9107ffa1",
   "metadata": {},
   "outputs": [],
   "source": [
    "from tensorflow.keras.preprocessing.text import Tokenizer\n",
    "\n",
    "max_features=10000\n",
    "\n",
    "tokenizer = Tokenizer(num_words = max_features)\n",
    "tokenizer.fit_on_texts(list(df['headline']))"
   ]
  },
  {
   "cell_type": "markdown",
   "id": "8177dd05",
   "metadata": {},
   "source": [
    "6. Create features and labels "
   ]
  },
  {
   "cell_type": "code",
   "execution_count": 26,
   "id": "d8b4b1c8",
   "metadata": {},
   "outputs": [],
   "source": [
    "from tensorflow.keras.preprocessing.sequence import pad_sequences\n",
    "import numpy as np\n",
    "\n",
    "X = tokenizer.texts_to_sequences(df['headline'])\n",
    "\n",
    "max_number_of_words = df['number_of_words'].max()\n",
    "\n",
    "X = pad_sequences(X, maxlen = max_number_of_words)\n",
    "y = np.asarray(df['is_sarcastic'])"
   ]
  },
  {
   "cell_type": "markdown",
   "id": "433448df",
   "metadata": {},
   "source": [
    "7. Get vocabulary size  "
   ]
  },
  {
   "cell_type": "code",
   "execution_count": 27,
   "id": "e14fe280",
   "metadata": {},
   "outputs": [
    {
     "name": "stdout",
     "output_type": "stream",
     "text": [
      "Vocabulary size/Numer of unique tokens: 29509\n"
     ]
    }
   ],
   "source": [
    "vocabulory_size = len(tokenizer.word_index) + 1\n",
    "print('Vocabulary size/Numer of unique tokens:', vocabulory_size)"
   ]
  },
  {
   "cell_type": "markdown",
   "id": "fdcfe649",
   "metadata": {},
   "source": [
    "8. Create a weight matrix using GloVe embeddings "
   ]
  },
  {
   "cell_type": "code",
   "execution_count": 28,
   "id": "758b73a1",
   "metadata": {},
   "outputs": [],
   "source": [
    "#Extract  \n",
    "from zipfile import ZipFile\n",
    "with ZipFile('glove.6B.zip', 'r') as z:\n",
    "  z.extractall()"
   ]
  },
  {
   "cell_type": "code",
   "execution_count": 29,
   "id": "777e9065",
   "metadata": {},
   "outputs": [],
   "source": [
    "glove_embeddings = {}\n",
    "\n",
    "for item in open('glove.6B.200d.txt',errors=\"ignore\"):\n",
    "    word = item.split(' ')[0]\n",
    "    embed = item.split(' ')[1:]\n",
    "    embed = np.asarray(embed, dtype = 'float32')\n",
    "    glove_embeddings[word] = embed"
   ]
  },
  {
   "cell_type": "code",
   "execution_count": 30,
   "id": "ca9e72d0",
   "metadata": {},
   "outputs": [],
   "source": [
    "# Getting the minimum number of words\n",
    "minimum_number_words = min(max_features, vocabulory_size) + 1\n",
    "\n",
    "embedding_size = 200\n",
    "\n",
    "embedding_matrix = np.zeros((minimum_number_words, embedding_size))\n",
    "\n",
    "for word, i in tokenizer.word_index.items():\n",
    "    if i > max_features: continue\n",
    "    embedding_vector = glove_embeddings.get(word)\n",
    "    if embedding_vector is not None:\n",
    "        embedding_matrix[i] = embedding_vector"
   ]
  },
  {
   "cell_type": "code",
   "execution_count": 31,
   "id": "cf1cf1a4",
   "metadata": {},
   "outputs": [],
   "source": [
    "from sklearn.model_selection import train_test_split\n",
    "\n",
    "X_train, X_test, y_train, y_test = train_test_split(X, y, test_size = 0.2)"
   ]
  },
  {
   "cell_type": "markdown",
   "id": "10fc6217",
   "metadata": {},
   "source": [
    "9. Define and compile a Bidirectional LSTM model. \n",
    "Hint: Be analytical and experimental here in trying new approaches to design the best model."
   ]
  },
  {
   "cell_type": "code",
   "execution_count": 32,
   "id": "dc0dd743",
   "metadata": {},
   "outputs": [],
   "source": [
    "from tensorflow.keras.models import Model, Sequential\n",
    "from tensorflow.keras.layers import Dense, LSTM, Embedding, Dropout, Flatten, Bidirectional, GlobalMaxPool1D\n",
    "from tensorflow.keras.initializers import Constant\n",
    "\n",
    "model = Sequential()\n",
    "model.add(Embedding(minimum_number_words, embedding_size, embeddings_initializer = Constant(embedding_matrix), input_length = max_number_of_words, trainable = False))\n",
    "model.add(Bidirectional(LSTM(128, return_sequences = True)))\n",
    "model.add(GlobalMaxPool1D())\n",
    "model.add(Dropout(0.5, input_shape = (256,)))\n",
    "model.add(Dense(128, activation = 'relu'))\n",
    "model.add(Dropout(0.5, input_shape = (128,)))\n",
    "model.add(Dense(64, activation = 'relu'))\n",
    "model.add(Dropout(0.5, input_shape = (64,)))\n",
    "model.add(Dense(1, activation = 'sigmoid'))"
   ]
  },
  {
   "cell_type": "code",
   "execution_count": 35,
   "id": "166267e6",
   "metadata": {},
   "outputs": [],
   "source": [
    "model.compile(loss = 'binary_crossentropy', optimizer = 'adam', metrics = ['accuracy'])"
   ]
  },
  {
   "cell_type": "markdown",
   "id": "2650b3aa",
   "metadata": {},
   "source": [
    "10. Fit the model and check the validation accuracy  "
   ]
  },
  {
   "cell_type": "code",
   "execution_count": 36,
   "id": "f8656ea8",
   "metadata": {},
   "outputs": [
    {
     "name": "stdout",
     "output_type": "stream",
     "text": [
      "Epoch 1/10\n",
      "184/184 [==============================] - 63s 345ms/step - loss: 0.4608 - accuracy: 0.7876 - val_loss: 0.4532 - val_accuracy: 0.7871\n",
      "Epoch 2/10\n",
      "184/184 [==============================] - 68s 371ms/step - loss: 0.4155 - accuracy: 0.8117 - val_loss: 0.4260 - val_accuracy: 0.7986\n",
      "Epoch 3/10\n",
      "184/184 [==============================] - 69s 375ms/step - loss: 0.3850 - accuracy: 0.8269 - val_loss: 0.4250 - val_accuracy: 0.8006\n",
      "Epoch 4/10\n",
      "184/184 [==============================] - 69s 378ms/step - loss: 0.3533 - accuracy: 0.8465 - val_loss: 0.4213 - val_accuracy: 0.8008\n",
      "Epoch 5/10\n",
      "184/184 [==============================] - 72s 393ms/step - loss: 0.3240 - accuracy: 0.8606 - val_loss: 0.4275 - val_accuracy: 0.7971\n",
      "Epoch 6/10\n",
      "184/184 [==============================] - 75s 406ms/step - loss: 0.2941 - accuracy: 0.8761 - val_loss: 0.4351 - val_accuracy: 0.8098\n",
      "Epoch 7/10\n",
      "184/184 [==============================] - 72s 393ms/step - loss: 0.2687 - accuracy: 0.8861 - val_loss: 0.4438 - val_accuracy: 0.8109\n",
      "Epoch 8/10\n",
      "184/184 [==============================] - 70s 379ms/step - loss: 0.2497 - accuracy: 0.8957 - val_loss: 0.4666 - val_accuracy: 0.8061\n",
      "Epoch 9/10\n",
      "184/184 [==============================] - 70s 381ms/step - loss: 0.2216 - accuracy: 0.9082 - val_loss: 0.5307 - val_accuracy: 0.8122\n",
      "Epoch 10/10\n",
      "184/184 [==============================] - 72s 389ms/step - loss: 0.1989 - accuracy: 0.9178 - val_loss: 0.5498 - val_accuracy: 0.8076\n"
     ]
    },
    {
     "data": {
      "text/plain": [
       "<tensorflow.python.keras.callbacks.History at 0x28d0fad73d0>"
      ]
     },
     "execution_count": 36,
     "metadata": {},
     "output_type": "execute_result"
    }
   ],
   "source": [
    "model.fit(X_train, y_train, epochs = 10, validation_split = 0.2, batch_size = 100, verbose = True)"
   ]
  },
  {
   "cell_type": "code",
   "execution_count": 37,
   "id": "ab46a10b",
   "metadata": {},
   "outputs": [
    {
     "name": "stdout",
     "output_type": "stream",
     "text": [
      "Classification Report:               precision    recall  f1-score   support\n",
      "\n",
      "           0       0.80      0.83      0.81      2913\n",
      "           1       0.82      0.78      0.80      2811\n",
      "\n",
      "    accuracy                           0.81      5724\n",
      "   macro avg       0.81      0.81      0.81      5724\n",
      "weighted avg       0.81      0.81      0.81      5724\n",
      "\n"
     ]
    }
   ],
   "source": [
    "from sklearn.metrics import classification_report\n",
    "\n",
    "y_prediction = model.predict_classes(X_test)\n",
    "print(\"Classification Report:\", classification_report(y_prediction, y_test))"
   ]
  },
  {
   "cell_type": "code",
   "execution_count": 38,
   "id": "48c334d7",
   "metadata": {},
   "outputs": [
    {
     "data": {
      "text/plain": [
       "Text(0.5, 1.0, 'Confusion Matrix')"
      ]
     },
     "execution_count": 38,
     "metadata": {},
     "output_type": "execute_result"
    },
    {
     "data": {
      "image/png": "[encoded data removed]",
      "text/plain": [
       "<Figure size 432x288 with 2 Axes>"
      ]
     },
     "metadata": {
      "needs_background": "light"
     },
     "output_type": "display_data"
    }
   ],
   "source": [
    "from sklearn.metrics import confusion_matrix\n",
    "import seaborn as sns\n",
    "\n",
    "sns.heatmap(confusion_matrix(y_test, y_prediction), cmap= 'Blues', linecolor = 'black' , linewidth = 1 , annot = True, \n",
    "            fmt = '' , xticklabels = ['Non-sarcastic', 'Sarcastic'], \n",
    "            yticklabels = ['Non-sarcastic', 'Sarcastic']).set_title('Confusion Matrix')"
   ]
  },
  {
   "cell_type": "code",
   "execution_count": null,
   "id": "1c37a70e",
   "metadata": {},
   "outputs": [],
   "source": []
  },
  {
   "cell_type": "code",
   "execution_count": null,
   "id": "ef7ac1e3",
   "metadata": {},
   "outputs": [],
   "source": []
  },
  {
   "cell_type": "code",
   "execution_count": null,
   "id": "5a1e1099",
   "metadata": {},
   "outputs": [],
   "source": []
  }
 ],
 "metadata": {
  "kernelspec": {
   "display_name": "Python 3",
   "language": "python",
   "name": "python3"
  },
  "language_info": {
   "codemirror_mode": {
    "name": "ipython",
    "version": 3
   },
   "file_extension": ".py",
   "mimetype": "text/x-python",
   "name": "python",
   "nbconvert_exporter": "python",
   "pygments_lexer": "ipython3",
   "version": "3.8.8"
  }
 },
 "nbformat": 4,
 "nbformat_minor": 5
}
